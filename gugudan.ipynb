{
 "cells": [
  {
   "cell_type": "code",
   "execution_count": 31,
   "metadata": {},
   "outputs": [],
   "source": [
    "def gugudan(num): # 몇단까지 출력할 것인가\n",
    "    for b in range(1,10): # a X b = c 에서 b 부분\n",
    "        for a in range(2, num+1): # a X b = c 에서 a 부분\n",
    "            print(a, 'X', b, '=', a*b, end  ='\\t')\n",
    "        print()\n",
    "    print()"
   ]
  },
  {
   "cell_type": "code",
   "execution_count": 33,
   "metadata": {},
   "outputs": [
    {
     "name": "stdout",
     "output_type": "stream",
     "text": [
      "2 X 1 = 2\t\n",
      "2 X 2 = 4\t\n",
      "2 X 3 = 6\t\n",
      "2 X 4 = 8\t\n",
      "2 X 5 = 10\t\n",
      "2 X 6 = 12\t\n",
      "2 X 7 = 14\t\n",
      "2 X 8 = 16\t\n",
      "2 X 9 = 18\t\n",
      "\n"
     ]
    }
   ],
   "source": [
    "gugudan(2)"
   ]
  },
  {
   "cell_type": "code",
   "execution_count": 34,
   "metadata": {},
   "outputs": [
    {
     "name": "stdout",
     "output_type": "stream",
     "text": [
      "2 X 1 = 2\t3 X 1 = 3\t\n",
      "2 X 2 = 4\t3 X 2 = 6\t\n",
      "2 X 3 = 6\t3 X 3 = 9\t\n",
      "2 X 4 = 8\t3 X 4 = 12\t\n",
      "2 X 5 = 10\t3 X 5 = 15\t\n",
      "2 X 6 = 12\t3 X 6 = 18\t\n",
      "2 X 7 = 14\t3 X 7 = 21\t\n",
      "2 X 8 = 16\t3 X 8 = 24\t\n",
      "2 X 9 = 18\t3 X 9 = 27\t\n",
      "\n"
     ]
    }
   ],
   "source": [
    "gugudan(3)"
   ]
  },
  {
   "cell_type": "code",
   "execution_count": 32,
   "metadata": {},
   "outputs": [
    {
     "name": "stdout",
     "output_type": "stream",
     "text": [
      "2 X 1 = 2\t3 X 1 = 3\t4 X 1 = 4\t5 X 1 = 5\t\n",
      "2 X 2 = 4\t3 X 2 = 6\t4 X 2 = 8\t5 X 2 = 10\t\n",
      "2 X 3 = 6\t3 X 3 = 9\t4 X 3 = 12\t5 X 3 = 15\t\n",
      "2 X 4 = 8\t3 X 4 = 12\t4 X 4 = 16\t5 X 4 = 20\t\n",
      "2 X 5 = 10\t3 X 5 = 15\t4 X 5 = 20\t5 X 5 = 25\t\n",
      "2 X 6 = 12\t3 X 6 = 18\t4 X 6 = 24\t5 X 6 = 30\t\n",
      "2 X 7 = 14\t3 X 7 = 21\t4 X 7 = 28\t5 X 7 = 35\t\n",
      "2 X 8 = 16\t3 X 8 = 24\t4 X 8 = 32\t5 X 8 = 40\t\n",
      "2 X 9 = 18\t3 X 9 = 27\t4 X 9 = 36\t5 X 9 = 45\t\n",
      "\n"
     ]
    }
   ],
   "source": [
    "gugudan(5)"
   ]
  }
 ],
 "metadata": {
  "kernelspec": {
   "display_name": "streamlit",
   "language": "python",
   "name": "python3"
  },
  "language_info": {
   "codemirror_mode": {
    "name": "ipython",
    "version": 3
   },
   "file_extension": ".py",
   "mimetype": "text/x-python",
   "name": "python",
   "nbconvert_exporter": "python",
   "pygments_lexer": "ipython3",
   "version": "3.10.6"
  },
  "orig_nbformat": 4,
  "vscode": {
   "interpreter": {
    "hash": "c87ace968ca4e2c8d669a4b64834cd7420391e8a1f4f78560d7232f5e01e4080"
   }
  }
 },
 "nbformat": 4,
 "nbformat_minor": 2
}
